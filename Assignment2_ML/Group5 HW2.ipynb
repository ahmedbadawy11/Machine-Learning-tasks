{
 "cells": [
  {
   "cell_type": "markdown",
   "id": "de453dd0",
   "metadata": {},
   "source": [
    "## Import libraries"
   ]
  },
  {
   "cell_type": "code",
   "execution_count": 1,
   "id": "d684327b",
   "metadata": {},
   "outputs": [],
   "source": [
    "import pandas as pd\n",
    "import numpy as np\n",
    "from sklearn.exceptions import UndefinedMetricWarning\n",
    "from  sklearn.naive_bayes import GaussianNB\n",
    "from sklearn.naive_bayes import MultinomialNB,ComplementNB,BernoulliNB\n",
    "from sklearn.metrics import confusion_matrix\n",
    "from sklearn.metrics import accuracy_score\n",
    "import matplotlib.pyplot as plt\n",
    "import seaborn as sns\n",
    "from sklearn.model_selection import train_test_split\n",
    "from sklearn.metrics import confusion_matrix,classification_report\n",
    "import warnings\n",
    "warnings.filterwarnings(\"ignore\", category=UndefinedMetricWarning)"
   ]
  },
  {
   "cell_type": "markdown",
   "id": "26a201fd",
   "metadata": {},
   "source": [
    "## Function conf_matrix\n",
    "* To preview the confusion matrix and classification report"
   ]
  },
  {
   "cell_type": "code",
   "execution_count": 2,
   "id": "7f28c54f",
   "metadata": {},
   "outputs": [],
   "source": [
    "def conf_matrix(x, y, title, show_report=False):\n",
    "    cm = confusion_matrix(x, y)\n",
    "    plt.figure(figsize=(6, 4))\n",
    "    \n",
    "    sns.heatmap(cm, annot=True, fmt='d', cmap=\"Oranges\", cbar=False)\n",
    "    plt.title(f'Confusion Matrix - {title} Data')\n",
    "    plt.xlabel('Predicted Class')\n",
    "    plt.ylabel('True Class')\n",
    "    plt.show()\n",
    "    if not show_report:\n",
    "        print(\"Accuracy: \", accuracy_score(x, y))\n",
    "\n",
    "    if show_report:\n",
    "        report = classification_report(x, y)\n",
    "        print(\"Classification Report:\")\n",
    "        print(report)\n",
    "        plt.show()\n"
   ]
  },
  {
   "cell_type": "markdown",
   "id": "e249084a",
   "metadata": {},
   "source": [
    "## Read Date from URL "
   ]
  },
  {
   "cell_type": "code",
   "execution_count": 3,
   "id": "3c69c6d3",
   "metadata": {},
   "outputs": [],
   "source": [
    "url = 'https://archive.ics.uci.edu/ml/machine-learning-databases/spambase/spambase.data'\n",
    "\n",
    "\n",
    "spambase = pd.read_csv(url, header=None)\n"
   ]
  },
  {
   "cell_type": "code",
   "execution_count": 4,
   "id": "1cbd0a3a",
   "metadata": {},
   "outputs": [
    {
     "data": {
      "text/html": [
       "<div>\n",
       "<style scoped>\n",
       "    .dataframe tbody tr th:only-of-type {\n",
       "        vertical-align: middle;\n",
       "    }\n",
       "\n",
       "    .dataframe tbody tr th {\n",
       "        vertical-align: top;\n",
       "    }\n",
       "\n",
       "    .dataframe thead th {\n",
       "        text-align: right;\n",
       "    }\n",
       "</style>\n",
       "<table border=\"1\" class=\"dataframe\">\n",
       "  <thead>\n",
       "    <tr style=\"text-align: right;\">\n",
       "      <th></th>\n",
       "      <th>0</th>\n",
       "      <th>1</th>\n",
       "      <th>2</th>\n",
       "      <th>3</th>\n",
       "      <th>4</th>\n",
       "      <th>5</th>\n",
       "      <th>6</th>\n",
       "      <th>7</th>\n",
       "      <th>8</th>\n",
       "      <th>9</th>\n",
       "      <th>...</th>\n",
       "      <th>48</th>\n",
       "      <th>49</th>\n",
       "      <th>50</th>\n",
       "      <th>51</th>\n",
       "      <th>52</th>\n",
       "      <th>53</th>\n",
       "      <th>54</th>\n",
       "      <th>55</th>\n",
       "      <th>56</th>\n",
       "      <th>57</th>\n",
       "    </tr>\n",
       "  </thead>\n",
       "  <tbody>\n",
       "    <tr>\n",
       "      <th>0</th>\n",
       "      <td>0.00</td>\n",
       "      <td>0.64</td>\n",
       "      <td>0.64</td>\n",
       "      <td>0.0</td>\n",
       "      <td>0.32</td>\n",
       "      <td>0.00</td>\n",
       "      <td>0.00</td>\n",
       "      <td>0.00</td>\n",
       "      <td>0.00</td>\n",
       "      <td>0.00</td>\n",
       "      <td>...</td>\n",
       "      <td>0.00</td>\n",
       "      <td>0.000</td>\n",
       "      <td>0.0</td>\n",
       "      <td>0.778</td>\n",
       "      <td>0.000</td>\n",
       "      <td>0.000</td>\n",
       "      <td>3.756</td>\n",
       "      <td>61</td>\n",
       "      <td>278</td>\n",
       "      <td>1</td>\n",
       "    </tr>\n",
       "    <tr>\n",
       "      <th>1</th>\n",
       "      <td>0.21</td>\n",
       "      <td>0.28</td>\n",
       "      <td>0.50</td>\n",
       "      <td>0.0</td>\n",
       "      <td>0.14</td>\n",
       "      <td>0.28</td>\n",
       "      <td>0.21</td>\n",
       "      <td>0.07</td>\n",
       "      <td>0.00</td>\n",
       "      <td>0.94</td>\n",
       "      <td>...</td>\n",
       "      <td>0.00</td>\n",
       "      <td>0.132</td>\n",
       "      <td>0.0</td>\n",
       "      <td>0.372</td>\n",
       "      <td>0.180</td>\n",
       "      <td>0.048</td>\n",
       "      <td>5.114</td>\n",
       "      <td>101</td>\n",
       "      <td>1028</td>\n",
       "      <td>1</td>\n",
       "    </tr>\n",
       "    <tr>\n",
       "      <th>2</th>\n",
       "      <td>0.06</td>\n",
       "      <td>0.00</td>\n",
       "      <td>0.71</td>\n",
       "      <td>0.0</td>\n",
       "      <td>1.23</td>\n",
       "      <td>0.19</td>\n",
       "      <td>0.19</td>\n",
       "      <td>0.12</td>\n",
       "      <td>0.64</td>\n",
       "      <td>0.25</td>\n",
       "      <td>...</td>\n",
       "      <td>0.01</td>\n",
       "      <td>0.143</td>\n",
       "      <td>0.0</td>\n",
       "      <td>0.276</td>\n",
       "      <td>0.184</td>\n",
       "      <td>0.010</td>\n",
       "      <td>9.821</td>\n",
       "      <td>485</td>\n",
       "      <td>2259</td>\n",
       "      <td>1</td>\n",
       "    </tr>\n",
       "    <tr>\n",
       "      <th>3</th>\n",
       "      <td>0.00</td>\n",
       "      <td>0.00</td>\n",
       "      <td>0.00</td>\n",
       "      <td>0.0</td>\n",
       "      <td>0.63</td>\n",
       "      <td>0.00</td>\n",
       "      <td>0.31</td>\n",
       "      <td>0.63</td>\n",
       "      <td>0.31</td>\n",
       "      <td>0.63</td>\n",
       "      <td>...</td>\n",
       "      <td>0.00</td>\n",
       "      <td>0.137</td>\n",
       "      <td>0.0</td>\n",
       "      <td>0.137</td>\n",
       "      <td>0.000</td>\n",
       "      <td>0.000</td>\n",
       "      <td>3.537</td>\n",
       "      <td>40</td>\n",
       "      <td>191</td>\n",
       "      <td>1</td>\n",
       "    </tr>\n",
       "    <tr>\n",
       "      <th>4</th>\n",
       "      <td>0.00</td>\n",
       "      <td>0.00</td>\n",
       "      <td>0.00</td>\n",
       "      <td>0.0</td>\n",
       "      <td>0.63</td>\n",
       "      <td>0.00</td>\n",
       "      <td>0.31</td>\n",
       "      <td>0.63</td>\n",
       "      <td>0.31</td>\n",
       "      <td>0.63</td>\n",
       "      <td>...</td>\n",
       "      <td>0.00</td>\n",
       "      <td>0.135</td>\n",
       "      <td>0.0</td>\n",
       "      <td>0.135</td>\n",
       "      <td>0.000</td>\n",
       "      <td>0.000</td>\n",
       "      <td>3.537</td>\n",
       "      <td>40</td>\n",
       "      <td>191</td>\n",
       "      <td>1</td>\n",
       "    </tr>\n",
       "  </tbody>\n",
       "</table>\n",
       "<p>5 rows × 58 columns</p>\n",
       "</div>"
      ],
      "text/plain": [
       "     0     1     2    3     4     5     6     7     8     9   ...    48  \\\n",
       "0  0.00  0.64  0.64  0.0  0.32  0.00  0.00  0.00  0.00  0.00  ...  0.00   \n",
       "1  0.21  0.28  0.50  0.0  0.14  0.28  0.21  0.07  0.00  0.94  ...  0.00   \n",
       "2  0.06  0.00  0.71  0.0  1.23  0.19  0.19  0.12  0.64  0.25  ...  0.01   \n",
       "3  0.00  0.00  0.00  0.0  0.63  0.00  0.31  0.63  0.31  0.63  ...  0.00   \n",
       "4  0.00  0.00  0.00  0.0  0.63  0.00  0.31  0.63  0.31  0.63  ...  0.00   \n",
       "\n",
       "      49   50     51     52     53     54   55    56  57  \n",
       "0  0.000  0.0  0.778  0.000  0.000  3.756   61   278   1  \n",
       "1  0.132  0.0  0.372  0.180  0.048  5.114  101  1028   1  \n",
       "2  0.143  0.0  0.276  0.184  0.010  9.821  485  2259   1  \n",
       "3  0.137  0.0  0.137  0.000  0.000  3.537   40   191   1  \n",
       "4  0.135  0.0  0.135  0.000  0.000  3.537   40   191   1  \n",
       "\n",
       "[5 rows x 58 columns]"
      ]
     },
     "execution_count": 4,
     "metadata": {},
     "output_type": "execute_result"
    }
   ],
   "source": [
    "spambase.head()"
   ]
  },
  {
   "cell_type": "code",
   "execution_count": 5,
   "id": "2951a394",
   "metadata": {},
   "outputs": [
    {
     "data": {
      "text/plain": [
       "(4601, 58)"
      ]
     },
     "execution_count": 5,
     "metadata": {},
     "output_type": "execute_result"
    }
   ],
   "source": [
    "spambase.shape"
   ]
  },
  {
   "cell_type": "code",
   "execution_count": 6,
   "id": "a6be18d8",
   "metadata": {},
   "outputs": [
    {
     "data": {
      "text/plain": [
       "0    2788\n",
       "1    1813\n",
       "Name: 57, dtype: int64"
      ]
     },
     "execution_count": 6,
     "metadata": {},
     "output_type": "execute_result"
    }
   ],
   "source": [
    "spambase[57].value_counts()"
   ]
  },
  {
   "cell_type": "markdown",
   "id": "9330781c",
   "metadata": {},
   "source": [
    "#  Part 2 (A)"
   ]
  },
  {
   "cell_type": "markdown",
   "id": "26660f77",
   "metadata": {},
   "source": [
    "##  Split the dataset into two parts as training data and test data \n",
    "\n",
    "* first 80 percent for training\n",
    "* last 20 percent for test"
   ]
  },
  {
   "cell_type": "code",
   "execution_count": 7,
   "id": "49e58d8a",
   "metadata": {},
   "outputs": [],
   "source": [
    "split_index = int(len(spambase) * 0.8)\n",
    "first_80_percent= spambase[:split_index]\n",
    "last_20_percent= spambase[split_index:]"
   ]
  },
  {
   "cell_type": "markdown",
   "id": "f11b4a94",
   "metadata": {},
   "source": [
    "##  split first_80_percent for x_train and y_train \n",
    "##  split last_20_percen for x_test and y_test "
   ]
  },
  {
   "cell_type": "code",
   "execution_count": 8,
   "id": "20cbf498",
   "metadata": {},
   "outputs": [],
   "source": [
    "x_train = first_80_percent.drop(first_80_percent.columns[-1], axis=1)\n",
    "y_train = first_80_percent.iloc[:, -1]\n",
    "x_test = last_20_percent.drop(first_80_percent.columns[-1], axis=1)\n",
    "y_test = last_20_percent.iloc[:, -1]\n"
   ]
  },
  {
   "cell_type": "markdown",
   "id": "debd6366",
   "metadata": {},
   "source": [
    "## Function \"Naive_Bayes_Models\"\n",
    "\n",
    "* this is user defined function whice apply Naive Bayes models \n",
    "\n",
    "* It Takes 4 parameters  Naive_Bayes_classifier , X__train , Y__train , X__test\n",
    "\n",
    "* then path X__train and Y__train to fit function then path X__test to predict functoin to calculate classifier_predictions\n",
    "\n"
   ]
  },
  {
   "cell_type": "code",
   "execution_count": 9,
   "id": "2d838c0b",
   "metadata": {},
   "outputs": [],
   "source": [
    "def Naive_Bayes_Models(classifier,X__train,Y__train,X__test):\n",
    "    classifier.fit(X__train, Y__train)\n",
    "    classifier_predictions = classifier.predict(X__test)\n",
    "    return classifier_predictions\n",
    "    "
   ]
  },
  {
   "cell_type": "markdown",
   "id": "52c04b1b",
   "metadata": {},
   "source": [
    "## Run \"Naive_Bayes_Models\"  Function using GaussianNB classifier"
   ]
  },
  {
   "cell_type": "code",
   "execution_count": 10,
   "id": "153235eb",
   "metadata": {},
   "outputs": [],
   "source": [
    "Gaussian_predictions=Naive_Bayes_Models(GaussianNB(),x_train,y_train,x_test)"
   ]
  },
  {
   "cell_type": "markdown",
   "id": "e8f2547b",
   "metadata": {},
   "source": [
    "## display the confusion matrix for GaussianNB classifier"
   ]
  },
  {
   "cell_type": "code",
   "execution_count": 11,
   "id": "c2cb84d3",
   "metadata": {
    "scrolled": false
   },
   "outputs": [
    {
     "data": {
      "image/png": "[encoded data removed]",
      "text/plain": [
       "<Figure size 600x400 with 1 Axes>"
      ]
     },
     "metadata": {},
     "output_type": "display_data"
    },
    {
     "name": "stdout",
     "output_type": "stream",
     "text": [
      "Accuracy:  0.6178067318132465\n"
     ]
    }
   ],
   "source": [
    "conf_matrix(y_test,Gaussian_predictions,\"Gaussian Naive Bayes Classifiers for Part 2 (A)\")\n",
    "\n"
   ]
  },
  {
   "cell_type": "markdown",
   "id": "5785c49d",
   "metadata": {},
   "source": [
    "## Run \"Naive_Bayes_Models\"  Function using MultinomialNB classifier"
   ]
  },
  {
   "cell_type": "code",
   "execution_count": 12,
   "id": "7fcc8bee",
   "metadata": {},
   "outputs": [],
   "source": [
    "MultinomialNB_predictions=Naive_Bayes_Models(MultinomialNB(),x_train,y_train,x_test)"
   ]
  },
  {
   "cell_type": "markdown",
   "id": "87459a0b",
   "metadata": {},
   "source": [
    "## display the confusion matrix for MultinomialNB classifier"
   ]
  },
  {
   "cell_type": "code",
   "execution_count": 13,
   "id": "0a94a1d5",
   "metadata": {},
   "outputs": [
    {
     "data": {
      "image/png": "[encoded data removed]",
      "text/plain": [
       "<Figure size 600x400 with 1 Axes>"
      ]
     },
     "metadata": {},
     "output_type": "display_data"
    },
    {
     "name": "stdout",
     "output_type": "stream",
     "text": [
      "Accuracy:  0.7231270358306189\n"
     ]
    }
   ],
   "source": [
    "conf_matrix(y_test,MultinomialNB_predictions,\"Multinomial Naive Bayes Classifiers for Part 2 (A)\")"
   ]
  },
  {
   "cell_type": "markdown",
   "id": "4905d85f",
   "metadata": {},
   "source": [
    "#   Part 2 (B)\n"
   ]
  },
  {
   "cell_type": "markdown",
   "id": "4b2a3022",
   "metadata": {},
   "source": [
    "## Put All columns except the last one  in X\n",
    "## Put the last column in  Y"
   ]
  },
  {
   "cell_type": "code",
   "execution_count": 14,
   "id": "bdffd1a4",
   "metadata": {},
   "outputs": [],
   "source": [
    "X = spambase.iloc[:, :-1]  # All columns except the last one\n",
    "y = spambase.iloc[:, -1]\n"
   ]
  },
  {
   "cell_type": "code",
   "execution_count": 15,
   "id": "c469eb29",
   "metadata": {},
   "outputs": [],
   "source": [
    "X_train_split, X_test_split, y_train_split, y_test_split = train_test_split(X, y, test_size=0.2, random_state=42,shuffle=True)"
   ]
  },
  {
   "cell_type": "markdown",
   "id": "b5f28aed",
   "metadata": {},
   "source": [
    "## Run \"Naive_Bayes_Models\"  Function using GaussianNB classifier \n",
    "* based on train test split function"
   ]
  },
  {
   "cell_type": "code",
   "execution_count": 16,
   "id": "3a386aa6",
   "metadata": {},
   "outputs": [],
   "source": [
    "Gaussian_Use_train_split_predictions=Naive_Bayes_Models(GaussianNB(),X_train_split,y_train_split,X_test_split)"
   ]
  },
  {
   "cell_type": "markdown",
   "id": "4446249b",
   "metadata": {},
   "source": [
    "##  display the confusion matrix for GaussianNB classifier"
   ]
  },
  {
   "cell_type": "code",
   "execution_count": 17,
   "id": "57823989",
   "metadata": {},
   "outputs": [
    {
     "data": {
      "image/png": "[encoded data removed]",
      "text/plain": [
       "<Figure size 600x400 with 1 Axes>"
      ]
     },
     "metadata": {},
     "output_type": "display_data"
    },
    {
     "name": "stdout",
     "output_type": "stream",
     "text": [
      "Accuracy:  0.8208469055374593\n"
     ]
    }
   ],
   "source": [
    "conf_matrix(y_test_split,Gaussian_Use_train_split_predictions,\"Gaussian Naive Bayes Classifiers for Part 2 (B)\")\n"
   ]
  },
  {
   "cell_type": "markdown",
   "id": "90d3584e",
   "metadata": {},
   "source": [
    "## Run \"Naive_Bayes_Models\"  Function using MultinomialNB classifier \n",
    "* based on train test split function"
   ]
  },
  {
   "cell_type": "code",
   "execution_count": 18,
   "id": "3a4067ca",
   "metadata": {},
   "outputs": [],
   "source": [
    "MultinomialNB_Use_train_split_predictions=Naive_Bayes_Models(MultinomialNB(),X_train_split,y_train_split,X_test_split)"
   ]
  },
  {
   "cell_type": "markdown",
   "id": "3353ef2c",
   "metadata": {},
   "source": [
    "##  display the confusion matrix for MultinomialNB classifier"
   ]
  },
  {
   "cell_type": "code",
   "execution_count": 19,
   "id": "4b772df1",
   "metadata": {},
   "outputs": [
    {
     "data": {
      "image/png": "[encoded data removed]",
      "text/plain": [
       "<Figure size 600x400 with 1 Axes>"
      ]
     },
     "metadata": {},
     "output_type": "display_data"
    },
    {
     "name": "stdout",
     "output_type": "stream",
     "text": [
      "Accuracy:  0.7861020629750272\n"
     ]
    }
   ],
   "source": [
    "conf_matrix(y_test_split,MultinomialNB_Use_train_split_predictions,\"Multinomial Naive Bayes Classifiers for Part 2 (B)\")"
   ]
  },
  {
   "cell_type": "markdown",
   "id": "cf6bde17",
   "metadata": {},
   "source": [
    "#   Part 2 (C)\n"
   ]
  },
  {
   "cell_type": "markdown",
   "id": "496b1ebb",
   "metadata": {},
   "source": [
    "## Run \"Naive_Bayes_Models\"  Function using BernoulliNB classifier \n",
    "* based on train test split function"
   ]
  },
  {
   "cell_type": "code",
   "execution_count": 20,
   "id": "c86ca7df",
   "metadata": {},
   "outputs": [],
   "source": [
    "BernoulliNB_Use_train_split_predictions=Naive_Bayes_Models(BernoulliNB(),X_train_split,y_train_split,X_test_split)"
   ]
  },
  {
   "cell_type": "markdown",
   "id": "3018fe55",
   "metadata": {},
   "source": [
    "##  display the confusion matrix for BernoulliNB classifier"
   ]
  },
  {
   "cell_type": "code",
   "execution_count": 21,
   "id": "06858736",
   "metadata": {
    "scrolled": false
   },
   "outputs": [
    {
     "data": {
      "image/png": "[encoded data removed]",
      "text/plain": [
       "<Figure size 600x400 with 1 Axes>"
      ]
     },
     "metadata": {},
     "output_type": "display_data"
    },
    {
     "name": "stdout",
     "output_type": "stream",
     "text": [
      "Classification Report:\n",
      "              precision    recall  f1-score   support\n",
      "\n",
      "           0       0.86      0.94      0.90       531\n",
      "           1       0.91      0.80      0.85       390\n",
      "\n",
      "    accuracy                           0.88       921\n",
      "   macro avg       0.89      0.87      0.88       921\n",
      "weighted avg       0.88      0.88      0.88       921\n",
      "\n"
     ]
    }
   ],
   "source": [
    "conf_matrix(y_test_split,BernoulliNB_Use_train_split_predictions,\n",
    "            \"BernoulliNB_classifier Naive Bayes Classifiers for Part 2 (C)\",True)\n"
   ]
  },
  {
   "cell_type": "code",
   "execution_count": 22,
   "id": "cdae844e",
   "metadata": {},
   "outputs": [
    {
     "name": "stdout",
     "output_type": "stream",
     "text": [
      "Accuracy for BernoulliNB classifier :  0.8805646036916395\n"
     ]
    }
   ],
   "source": [
    "print(\"Accuracy for BernoulliNB classifier : \", accuracy_score(y_test_split, BernoulliNB_Use_train_split_predictions))\n"
   ]
  },
  {
   "cell_type": "markdown",
   "id": "01d9bf61",
   "metadata": {},
   "source": [
    "#    Part 2 (D)\n"
   ]
  },
  {
   "cell_type": "markdown",
   "id": "63901c03",
   "metadata": {},
   "source": [
    "## Split the first_80_percent  into o four equal parts (25%)"
   ]
  },
  {
   "cell_type": "code",
   "execution_count": 23,
   "id": "98de3f3b",
   "metadata": {},
   "outputs": [],
   "source": [
    "subset_1=first_80_percent[:int(len(first_80_percent)*0.25)]\n",
    "subset_2=first_80_percent[int(len(first_80_percent)*0.25):int(len(first_80_percent)*0.50)]\n",
    "subset_3=first_80_percent[int(len(first_80_percent)*0.50):int(len(first_80_percent)*0.75)]\n",
    "subset_4=first_80_percent[int(len(first_80_percent)*0.75):]\n"
   ]
  },
  {
   "cell_type": "markdown",
   "id": "bcf5a6da",
   "metadata": {},
   "source": [
    "## List of 4 subset"
   ]
  },
  {
   "cell_type": "code",
   "execution_count": 24,
   "id": "39a0b33f",
   "metadata": {},
   "outputs": [],
   "source": [
    "list_of_subset=[subset_1,subset_2,subset_3,subset_4]"
   ]
  },
  {
   "cell_type": "markdown",
   "id": "4c01fce1",
   "metadata": {},
   "source": [
    "## loop on list_of_subset to access each sub_set\n",
    "* Put All columns except the last one  in x_train_sub_set\n",
    "* Put the last column in  y_train_sub_set\n",
    "* then Run \"Naive_Bayes_Models\" Function using BernoulliNB classifier for each sub_set\n",
    "* predict the accuracy score by  last 20 percent \n",
    "* store the accuracy score for each sub_set in subset_accuracies list"
   ]
  },
  {
   "cell_type": "code",
   "execution_count": 25,
   "id": "fb4f7d03",
   "metadata": {},
   "outputs": [
    {
     "name": "stdout",
     "output_type": "stream",
     "text": [
      "Accuracy for subset  1 using BernoulliNB classifier :  0.0\n",
      "Accuracy for subset  2 using BernoulliNB classifier :  0.6438653637350705\n",
      "Accuracy for subset  3 using BernoulliNB classifier :  1.0\n",
      "Accuracy for subset  4 using BernoulliNB classifier :  1.0\n"
     ]
    }
   ],
   "source": [
    "subset_accuracies =[]\n",
    "for iteration,sub_set in  enumerate(list_of_subset):\n",
    "\n",
    "\n",
    "    x_train_sub_set = sub_set.drop(sub_set.columns[-1], axis=1)\n",
    "    y_train_sub_set = sub_set.iloc[:, -1]\n",
    "\n",
    "    \n",
    "    subset_predictions=Naive_Bayes_Models(BernoulliNB(),x_train_sub_set,y_train_sub_set,x_test)    \n",
    "    \n",
    "    \n",
    "    \n",
    "    # Calculate the accuracy score for the subset\n",
    "    \n",
    "    subset_accuracy = accuracy_score(y_test, subset_predictions)\n",
    "    print(f\"Accuracy for subset  {iteration+1} using BernoulliNB classifier : \",subset_accuracy)\n",
    "    # Store the accuracy score in the List\n",
    "\n",
    "    subset_accuracies.append(subset_accuracy)\n"
   ]
  },
  {
   "cell_type": "markdown",
   "id": "cb74f81e",
   "metadata": {},
   "source": [
    "##  Draw the bar chart to visualize the accuracy scores of the subsets"
   ]
  },
  {
   "cell_type": "code",
   "execution_count": 26,
   "id": "fd257910",
   "metadata": {},
   "outputs": [
    {
     "data": {
      "image/png": "[encoded data removed]",
      "text/plain": [
       "<Figure size 640x480 with 1 Axes>"
      ]
     },
     "metadata": {},
     "output_type": "display_data"
    }
   ],
   "source": [
    "\n",
    "subset_labels = ['Subset 1', 'Subset 2', 'Subset 3', 'Subset 4']\n",
    "plt.bar(subset_labels, subset_accuracies)\n",
    "plt.xlabel('Subsets')\n",
    "plt.ylabel('Accuracy')\n",
    "plt.title('Accuracy Scores for Subsets')\n",
    "plt.ylim([0, 1])\n",
    "plt.show()\n"
   ]
  },
  {
   "cell_type": "code",
   "execution_count": null,
   "id": "c6fad9e7",
   "metadata": {},
   "outputs": [],
   "source": []
  },
  {
   "cell_type": "code",
   "execution_count": 27,
   "id": "9d234349",
   "metadata": {
    "scrolled": false
   },
   "outputs": [
    {
     "name": "stdout",
     "output_type": "stream",
     "text": [
      "\t\t\t\t Subset : 1 \n",
      "\n",
      "\t\t\t **** Training Data ****\n",
      "______________________________________________________________________________\n",
      "shape for subset 1 \n",
      "  (920, 58)\n",
      "______________________________________________________________________________\n",
      "value counts for Lable column in Training Data\n",
      " 1    920\n",
      "Name: 57, dtype: int64\n",
      "______________________________________________________________________________\n",
      "\n",
      "\t\t\t **** Test Data ****\n",
      "\n",
      "value counts for Lable column in Test Data\n",
      " 0    921\n",
      "Name: 57, dtype: int64\n",
      "_________________________________________________________________________\n",
      "\n",
      "\n",
      "\t\t\t\t Subset : 2 \n",
      "\n",
      "\t\t\t **** Training Data ****\n",
      "______________________________________________________________________________\n",
      "shape for subset 2 \n",
      "  (920, 58)\n",
      "______________________________________________________________________________\n",
      "value counts for Lable column in Training Data\n",
      " 1    893\n",
      "0     27\n",
      "Name: 57, dtype: int64\n",
      "______________________________________________________________________________\n",
      "\n",
      "\t\t\t **** Test Data ****\n",
      "\n",
      "value counts for Lable column in Test Data\n",
      " 0    921\n",
      "Name: 57, dtype: int64\n",
      "_________________________________________________________________________\n",
      "\n",
      "\n",
      "\t\t\t\t Subset : 3 \n",
      "\n",
      "\t\t\t **** Training Data ****\n",
      "______________________________________________________________________________\n",
      "shape for subset 3 \n",
      "  (920, 58)\n",
      "______________________________________________________________________________\n",
      "value counts for Lable column in Training Data\n",
      " 0    920\n",
      "Name: 57, dtype: int64\n",
      "______________________________________________________________________________\n",
      "\n",
      "\t\t\t **** Test Data ****\n",
      "\n",
      "value counts for Lable column in Test Data\n",
      " 0    921\n",
      "Name: 57, dtype: int64\n",
      "_________________________________________________________________________\n",
      "\n",
      "\n",
      "\t\t\t\t Subset : 4 \n",
      "\n",
      "\t\t\t **** Training Data ****\n",
      "______________________________________________________________________________\n",
      "shape for subset 4 \n",
      "  (920, 58)\n",
      "______________________________________________________________________________\n",
      "value counts for Lable column in Training Data\n",
      " 0    920\n",
      "Name: 57, dtype: int64\n",
      "______________________________________________________________________________\n",
      "\n",
      "\t\t\t **** Test Data ****\n",
      "\n",
      "value counts for Lable column in Test Data\n",
      " 0    921\n",
      "Name: 57, dtype: int64\n",
      "_________________________________________________________________________\n",
      "\n",
      "\n"
     ]
    }
   ],
   "source": [
    "for index,sub_set in  enumerate(list_of_subset):\n",
    "    \n",
    "    print(\"\\t\\t\\t\\t Subset :\",index+1,\"\\n\")   \n",
    "    print(\"\\t\\t\\t **** Training Data ****\")\n",
    "    \n",
    "    print(\"______________________________________________________________________________\")\n",
    "    print(f\"shape for subset {index+1} \\n \",sub_set.shape)\n",
    "    print(\"______________________________________________________________________________\")\n",
    "   \n",
    "    print(\"value counts for Lable column in Training Data\\n\",sub_set[57].value_counts())\n",
    "    print(\"______________________________________________________________________________\")\n",
    "\n",
    "    print(\"\\n\\t\\t\\t **** Test Data ****\\n\")\n",
    "    \n",
    "    print(\"value counts for Lable column in Test Data\\n\",last_20_percent[57].value_counts())\n",
    "    print(\"_________________________________________________________________________\\n\\n\")\n",
    "    \n",
    "    \n",
    "    "
   ]
  },
  {
   "cell_type": "code",
   "execution_count": null,
   "id": "e207d9ba",
   "metadata": {},
   "outputs": [],
   "source": []
  }
 ],
 "metadata": {
  "kernelspec": {
   "display_name": "Python 3 (ipykernel)",
   "language": "python",
   "name": "python3"
  },
  "language_info": {
   "codemirror_mode": {
    "name": "ipython",
    "version": 3
   },
   "file_extension": ".py",
   "mimetype": "text/x-python",
   "name": "python",
   "nbconvert_exporter": "python",
   "pygments_lexer": "ipython3",
   "version": "3.9.13"
  },
  "varInspector": {
   "cols": {
    "lenName": 16,
    "lenType": 16,
    "lenVar": 40
   },
   "kernels_config": {
    "python": {
     "delete_cmd_postfix": "",
     "delete_cmd_prefix": "del ",
     "library": "var_list.py",
     "varRefreshCmd": "print(var_dic_list())"
    },
    "r": {
     "delete_cmd_postfix": ") ",
     "delete_cmd_prefix": "rm(",
     "library": "var_list.r",
     "varRefreshCmd": "cat(var_dic_list()) "
    }
   },
   "types_to_exclude": [
    "module",
    "function",
    "builtin_function_or_method",
    "instance",
    "_Feature"
   ],
   "window_display": false
  }
 },
 "nbformat": 4,
 "nbformat_minor": 5
}
